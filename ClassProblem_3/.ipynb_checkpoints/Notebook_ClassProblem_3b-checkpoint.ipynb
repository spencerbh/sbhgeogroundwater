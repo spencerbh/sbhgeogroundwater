{
 "cells": [
  {
   "cell_type": "markdown",
   "metadata": {},
   "source": [
    "# Todo:\n",
    "\n",
    "1.  _figure out how to use python/gis only instead of excel for ibound import_\n",
    "2. Clean up the graphs, apply labels\n",
    "3. Find out why m.write_input() is deleting the external ibound file we uploaded"
   ]
  },
  {
   "cell_type": "markdown",
   "metadata": {},
   "source": [
    "## University of Pennsylvania, Masters in Applied Geosciences\n",
    "\n",
    "### Groundwater Flow and Transport Modeling, Prepared by Carl Mastropaolo\n",
    "\n",
    "### Class Problem 3B\n",
    "\n",
    "#### Notebook by Spencer Harris"
   ]
  },
  {
   "cell_type": "code",
   "execution_count": 1,
   "metadata": {
    "scrolled": true
   },
   "outputs": [
    {
     "name": "stdout",
     "output_type": "stream",
     "text": [
      "/home/sbhgeo/Documents/Fogland/conda/bin/python\n"
     ]
    }
   ],
   "source": [
    "import sys\n",
    "print(sys.executable)"
   ]
  },
  {
   "cell_type": "code",
   "execution_count": 2,
   "metadata": {
    "collapsed": true
   },
   "outputs": [],
   "source": [
    "%matplotlib inline \n",
    "# '%' is a notebook specific command, remove if running outside of notebook\n",
    "import os \n",
    "import flopy\n",
    "import numpy as np\n",
    "import matplotlib.pyplot as plt"
   ]
  },
  {
   "cell_type": "code",
   "execution_count": 3,
   "metadata": {},
   "outputs": [
    {
     "name": "stdout",
     "output_type": "stream",
     "text": [
      "../../../bin/mf2005.nix\n",
      "/home/sbhgeo/Documents/Fogland/bin/mf2005.nix\n",
      "if this =>  \" True \"  prints true, that means executable is in the correct spot\n"
     ]
    }
   ],
   "source": [
    "mfexe = os.path.join(\"..\", \"..\", \"..\", \"bin\", \"mf2005.nix\") # adds path to mf2005.nix, which will be our executeable, to mfexe\n",
    "abspath = os.path.abspath(mfexe) # assigns absolute path of mfexe to abspath, double checking\n",
    "print(mfexe) #printing the variables\n",
    "print(abspath)\n",
    "print('if this =>  \\\"', os.path.isfile(mfexe),'\\\"  prints true, that means executable is in the correct spot')"
   ]
  },
  {
   "cell_type": "markdown",
   "metadata": {},
   "source": [
    "### Model starts below:"
   ]
  },
  {
   "cell_type": "code",
   "execution_count": 4,
   "metadata": {
    "collapsed": true
   },
   "outputs": [],
   "source": [
    "# creating an empty modflow container in FloPy, m is being defined as a python object\n",
    "# Modflow model is stored in flopy -> modflow -> \n",
    "# shift + tab here to see how to input necessary files\n",
    "\n",
    "m = flopy.modflow.Modflow(modelname = 'Prob3b', exe_name = mfexe) "
   ]
  },
  {
   "cell_type": "markdown",
   "metadata": {},
   "source": [
    "--------------------\n",
    "#### Dis package"
   ]
  },
  {
   "cell_type": "code",
   "execution_count": 5,
   "metadata": {},
   "outputs": [],
   "source": [
    "nlay = 1\n",
    "nrow = 27\n",
    "ncol = 13\n",
    "nper = 3\n",
    "itmuni = 4\n",
    "lenuni = 1\n",
    "laycbd = 0\n",
    "delr = 200.\n",
    "delc = 200.\n",
    "top = 20.\n",
    "botm = -10.\n",
    "perlen = np.array([100., 1., 1000.]) \n",
    "nstp = np.array([1, 20, 100])\n",
    "tsmult = 1\n",
    "steady = np.array([True, False, False])\n",
    "\n",
    "dis = flopy.modflow.ModflowDis(m, nlay=nlay, nrow=nrow, ncol=ncol, nper=nper, delr=delr, delc=delc, \n",
    "                               laycbd=laycbd, top=top, botm=botm, perlen=perlen, nstp=nstp, tsmult=tsmult, \n",
    "                               steady=steady, itmuni=itmuni, lenuni=lenuni)"
   ]
  },
  {
   "cell_type": "markdown",
   "metadata": {},
   "source": [
    "--------------------\n",
    "#### Bcf package"
   ]
  },
  {
   "cell_type": "code",
   "execution_count": 6,
   "metadata": {},
   "outputs": [],
   "source": [
    "laycon = 1\n",
    "hdry = 777.77\n",
    "trpy = 1.0\n",
    "hy = 50.0\n",
    "sf2 = 0.15\n",
    "bcf = flopy.modflow.ModflowBcf(m, laycon=laycon, trpy=trpy, hdry=hdry, sf2=sf2, hy=hy)\n",
    "# help(flopy.modflow.ModflowBcf)"
   ]
  },
  {
   "cell_type": "markdown",
   "metadata": {},
   "source": [
    "--------------------\n",
    "#### Bas package\n",
    "We are pulling in an external ibound file here, which was made using some excel magic: to/make get the file look here https://sites.google.com/site/fateandtransportmodeling/class-problems/Drawing%20%26%20Ibound.xls?attredirects=0&d=1  \n",
    "\n",
    "Ideally we will want to learn how to make ibound arrays from vector shapefiles  \n",
    "\n",
    "**Important note**\n",
    "Make sure that you put this external file (ibound.prn) somewhere outside of the directory/folder which contains the working notebook.  \n",
    "Apparently if you put the file in the notebook/model folder ```m_writ_input()``` deletes it somehow, which is bad, maybe you can pass something to that command so that it wont do it, but this is my current work around for now.\n"
   ]
  },
  {
   "cell_type": "code",
   "execution_count": 7,
   "metadata": {},
   "outputs": [
    {
     "name": "stdout",
     "output_type": "stream",
     "text": [
      "../ClassP_3_data/ibound.prn\n",
      "/home/sbhgeo/Documents/Fogland/Notebooks/FT_class/ClassP_3_data/ibound.prn\n",
      "if this =>  \" True \"  prints true, that means executable is in the correct spot\n"
     ]
    }
   ],
   "source": [
    "ib = os.path.join(\"..\",\"ClassP_3_data\", \"ibound.prn\") # adds path to ibound array, which is given \n",
    "abspath_ib = os.path.abspath(ib) # assigns absolute path of ib to abspath_ib, double checking\n",
    "print(ib) #printing the variables\n",
    "print(abspath_ib)\n",
    "print('if this =>  \\\"', os.path.isfile(ib),'\\\"  prints true, that means executable is in the correct spot')"
   ]
  },
  {
   "cell_type": "code",
   "execution_count": 8,
   "metadata": {},
   "outputs": [],
   "source": [
    "ibound = ib\n",
    "strt = np.ones((nlay, nrow, ncol), dtype=np.float)\n",
    "strt[:,:,:] = 5.0 #assigns 50' head to all cells\n",
    "\n",
    "bas = flopy.modflow.ModflowBas(m, ibound=ibound, strt=strt)\n",
    "\n",
    "#print(ibound)\n",
    "#print(strt)\n"
   ]
  },
  {
   "cell_type": "code",
   "execution_count": 9,
   "metadata": {},
   "outputs": [
    {
     "data": {
      "image/png": "[encoded data removed]",
      "text/plain": [
       "<matplotlib.figure.Figure at 0x7f3abc768390>"
      ]
     },
     "metadata": {},
     "output_type": "display_data"
    }
   ],
   "source": [
    "fig = plt.figure(figsize=(8, 8))\n",
    "ax = fig.add_subplot(1, 1, 1, aspect='equal')\n",
    "modelmap = flopy.plot.ModelMap(model=m)\n",
    "quadmesh = modelmap.plot_ibound()\n",
    "linecollection = modelmap.plot_grid()"
   ]
  },
  {
   "cell_type": "markdown",
   "metadata": {},
   "source": [
    "--------------------\n",
    "#### Sip package & Oc package"
   ]
  },
  {
   "cell_type": "code",
   "execution_count": 10,
   "metadata": {},
   "outputs": [],
   "source": [
    "sip = flopy.modflow.ModflowSip(m, mxiter=100, nparm=5, accl=1, hclose=1e-04, ipcalc=1, wseed=2e-12, iprsip=1)\n",
    "\n",
    "#below is output control\n",
    "stress_period_data = {(0,0):['save head','save budget']}\n",
    "oc = flopy.modflow.ModflowOc(m, stress_period_data=stress_period_data)\n",
    "\n",
    "#help(flopy.modflow.ModflowOc)"
   ]
  },
  {
   "cell_type": "markdown",
   "metadata": {},
   "source": [
    "--------------------\n",
    "#### Recharge pacakge"
   ]
  },
  {
   "cell_type": "code",
   "execution_count": 11,
   "metadata": {},
   "outputs": [],
   "source": [
    "#flopy.ModflowRch(model, rech=0.001)\n",
    "#help(flopy.modflow.ModflowRch)\n",
    "\n",
    "rech = {}\n",
    "rech[0] = 2.3e-3 #stress period 1 to 4\n",
    "rech[1] = 0. #stress period 5 and 6\n",
    "rech[2] = 2.3e-3 #stress preiod 7 to the end\n",
    "rch = flopy.modflow.ModflowRch(m, nrchop=3, rech=rech)\n"
   ]
  },
  {
   "cell_type": "markdown",
   "metadata": {},
   "source": [
    "####  writing our MODFLOW-2005 input files!"
   ]
  },
  {
   "cell_type": "code",
   "execution_count": 12,
   "metadata": {},
   "outputs": [
    {
     "name": "stdout",
     "output_type": "stream",
     "text": [
      "warning: assuming SpatialReference units are meters\n"
     ]
    }
   ],
   "source": [
    "#m.write_input()\n",
    "m.write_input()"
   ]
  },
  {
   "cell_type": "markdown",
   "metadata": {},
   "source": [
    "#### running the model"
   ]
  },
  {
   "cell_type": "code",
   "execution_count": 13,
   "metadata": {},
   "outputs": [
    {
     "name": "stdout",
     "output_type": "stream",
     "text": [
      "FloPy is using the following executable to run the model: ../../../bin/mf2005.nix\n",
      "\n",
      "                                  MODFLOW-2005     \n",
      "    U.S. GEOLOGICAL SURVEY MODULAR FINITE-DIFFERENCE GROUND-WATER FLOW MODEL\n",
      "                             Version 1.12.00 2/3/2017                        \n",
      "\n",
      " Using NAME file: Prob3b.nam \n",
      " Run start date and time (yyyy/mm/dd hh:mm:ss): 2017/10/12 17:15:38\n",
      "\n",
      " Solving:  Stress period:     1    Time step:     1    Ground-Water Flow Eqn.\n",
      " Solving:  Stress period:     2    Time step:     1    Ground-Water Flow Eqn.\n",
      " Solving:  Stress period:     2    Time step:     2    Ground-Water Flow Eqn.\n",
      " Solving:  Stress period:     2    Time step:     3    Ground-Water Flow Eqn.\n",
      " Solving:  Stress period:     2    Time step:     4    Ground-Water Flow Eqn.\n",
      " Solving:  Stress period:     2    Time step:     5    Ground-Water Flow Eqn.\n",
      " Solving:  Stress period:     2    Time step:     6    Ground-Water Flow Eqn.\n",
      " Solving:  Stress period:     2    Time step:     7    Ground-Water Flow Eqn.\n",
      " Solving:  Stress period:     2    Time step:     8    Ground-Water Flow Eqn.\n",
      " Solving:  Stress period:     2    Time step:     9    Ground-Water Flow Eqn.\n",
      " Solving:  Stress period:     2    Time step:    10    Ground-Water Flow Eqn.\n",
      " Solving:  Stress period:     2    Time step:    11    Ground-Water Flow Eqn.\n",
      " Solving:  Stress period:     2    Time step:    12    Ground-Water Flow Eqn.\n",
      " Solving:  Stress period:     2    Time step:    13    Ground-Water Flow Eqn.\n",
      " Solving:  Stress period:     2    Time step:    14    Ground-Water Flow Eqn.\n",
      " Solving:  Stress period:     2    Time step:    15    Ground-Water Flow Eqn.\n",
      " Solving:  Stress period:     2    Time step:    16    Ground-Water Flow Eqn.\n",
      " Solving:  Stress period:     2    Time step:    17    Ground-Water Flow Eqn.\n",
      " Solving:  Stress period:     2    Time step:    18    Ground-Water Flow Eqn.\n",
      " Solving:  Stress period:     2    Time step:    19    Ground-Water Flow Eqn.\n",
      " Solving:  Stress period:     2    Time step:    20    Ground-Water Flow Eqn.\n",
      " Solving:  Stress period:     3    Time step:     1    Ground-Water Flow Eqn.\n",
      " Solving:  Stress period:     3    Time step:     2    Ground-Water Flow Eqn.\n",
      " Solving:  Stress period:     3    Time step:     3    Ground-Water Flow Eqn.\n",
      " Solving:  Stress period:     3    Time step:     4    Ground-Water Flow Eqn.\n",
      " Solving:  Stress period:     3    Time step:     5    Ground-Water Flow Eqn.\n",
      " Solving:  Stress period:     3    Time step:     6    Ground-Water Flow Eqn.\n",
      " Solving:  Stress period:     3    Time step:     7    Ground-Water Flow Eqn.\n",
      " Solving:  Stress period:     3    Time step:     8    Ground-Water Flow Eqn.\n",
      " Solving:  Stress period:     3    Time step:     9    Ground-Water Flow Eqn.\n",
      " Solving:  Stress period:     3    Time step:    10    Ground-Water Flow Eqn.\n",
      " Solving:  Stress period:     3    Time step:    11    Ground-Water Flow Eqn.\n",
      " Solving:  Stress period:     3    Time step:    12    Ground-Water Flow Eqn.\n",
      " Solving:  Stress period:     3    Time step:    13    Ground-Water Flow Eqn.\n",
      " Solving:  Stress period:     3    Time step:    14    Ground-Water Flow Eqn.\n",
      " Solving:  Stress period:     3    Time step:    15    Ground-Water Flow Eqn.\n",
      " Solving:  Stress period:     3    Time step:    16    Ground-Water Flow Eqn.\n",
      " Solving:  Stress period:     3    Time step:    17    Ground-Water Flow Eqn.\n",
      " Solving:  Stress period:     3    Time step:    18    Ground-Water Flow Eqn.\n",
      " Solving:  Stress period:     3    Time step:    19    Ground-Water Flow Eqn.\n",
      " Solving:  Stress period:     3    Time step:    20    Ground-Water Flow Eqn.\n",
      " Solving:  Stress period:     3    Time step:    21    Ground-Water Flow Eqn.\n",
      " Solving:  Stress period:     3    Time step:    22    Ground-Water Flow Eqn.\n",
      " Solving:  Stress period:     3    Time step:    23    Ground-Water Flow Eqn.\n",
      " Solving:  Stress period:     3    Time step:    24    Ground-Water Flow Eqn.\n",
      " Solving:  Stress period:     3    Time step:    25    Ground-Water Flow Eqn.\n",
      " Solving:  Stress period:     3    Time step:    26    Ground-Water Flow Eqn.\n",
      " Solving:  Stress period:     3    Time step:    27    Ground-Water Flow Eqn.\n",
      " Solving:  Stress period:     3    Time step:    28    Ground-Water Flow Eqn.\n",
      " Solving:  Stress period:     3    Time step:    29    Ground-Water Flow Eqn.\n",
      " Solving:  Stress period:     3    Time step:    30    Ground-Water Flow Eqn.\n",
      " Solving:  Stress period:     3    Time step:    31    Ground-Water Flow Eqn.\n",
      " Solving:  Stress period:     3    Time step:    32    Ground-Water Flow Eqn.\n",
      " Solving:  Stress period:     3    Time step:    33    Ground-Water Flow Eqn.\n",
      " Solving:  Stress period:     3    Time step:    34    Ground-Water Flow Eqn.\n",
      " Solving:  Stress period:     3    Time step:    35    Ground-Water Flow Eqn.\n",
      " Solving:  Stress period:     3    Time step:    36    Ground-Water Flow Eqn.\n",
      " Solving:  Stress period:     3    Time step:    37    Ground-Water Flow Eqn.\n",
      " Solving:  Stress period:     3    Time step:    38    Ground-Water Flow Eqn.\n",
      " Solving:  Stress period:     3    Time step:    39    Ground-Water Flow Eqn.\n",
      " Solving:  Stress period:     3    Time step:    40    Ground-Water Flow Eqn.\n",
      " Solving:  Stress period:     3    Time step:    41    Ground-Water Flow Eqn.\n",
      " Solving:  Stress period:     3    Time step:    42    Ground-Water Flow Eqn.\n",
      " Solving:  Stress period:     3    Time step:    43    Ground-Water Flow Eqn.\n",
      " Solving:  Stress period:     3    Time step:    44    Ground-Water Flow Eqn.\n",
      " Solving:  Stress period:     3    Time step:    45    Ground-Water Flow Eqn.\n",
      " Solving:  Stress period:     3    Time step:    46    Ground-Water Flow Eqn.\n",
      " Solving:  Stress period:     3    Time step:    47    Ground-Water Flow Eqn.\n",
      " Solving:  Stress period:     3    Time step:    48    Ground-Water Flow Eqn.\n",
      " Solving:  Stress period:     3    Time step:    49    Ground-Water Flow Eqn.\n",
      " Solving:  Stress period:     3    Time step:    50    Ground-Water Flow Eqn.\n",
      " Solving:  Stress period:     3    Time step:    51    Ground-Water Flow Eqn.\n",
      " Solving:  Stress period:     3    Time step:    52    Ground-Water Flow Eqn.\n",
      " Solving:  Stress period:     3    Time step:    53    Ground-Water Flow Eqn.\n",
      " Solving:  Stress period:     3    Time step:    54    Ground-Water Flow Eqn.\n",
      " Solving:  Stress period:     3    Time step:    55    Ground-Water Flow Eqn.\n",
      " Solving:  Stress period:     3    Time step:    56    Ground-Water Flow Eqn.\n",
      " Solving:  Stress period:     3    Time step:    57    Ground-Water Flow Eqn.\n",
      " Solving:  Stress period:     3    Time step:    58    Ground-Water Flow Eqn.\n",
      " Solving:  Stress period:     3    Time step:    59    Ground-Water Flow Eqn.\n",
      " Solving:  Stress period:     3    Time step:    60    Ground-Water Flow Eqn.\n",
      " Solving:  Stress period:     3    Time step:    61    Ground-Water Flow Eqn.\n",
      " Solving:  Stress period:     3    Time step:    62    Ground-Water Flow Eqn.\n",
      " Solving:  Stress period:     3    Time step:    63    Ground-Water Flow Eqn.\n",
      " Solving:  Stress period:     3    Time step:    64    Ground-Water Flow Eqn.\n",
      " Solving:  Stress period:     3    Time step:    65    Ground-Water Flow Eqn.\n",
      " Solving:  Stress period:     3    Time step:    66    Ground-Water Flow Eqn.\n",
      " Solving:  Stress period:     3    Time step:    67    Ground-Water Flow Eqn.\n",
      " Solving:  Stress period:     3    Time step:    68    Ground-Water Flow Eqn.\n",
      " Solving:  Stress period:     3    Time step:    69    Ground-Water Flow Eqn.\n",
      " Solving:  Stress period:     3    Time step:    70    Ground-Water Flow Eqn.\n",
      " Solving:  Stress period:     3    Time step:    71    Ground-Water Flow Eqn.\n",
      " Solving:  Stress period:     3    Time step:    72    Ground-Water Flow Eqn.\n",
      " Solving:  Stress period:     3    Time step:    73    Ground-Water Flow Eqn.\n",
      " Solving:  Stress period:     3    Time step:    74    Ground-Water Flow Eqn.\n",
      " Solving:  Stress period:     3    Time step:    75    Ground-Water Flow Eqn.\n",
      " Solving:  Stress period:     3    Time step:    76    Ground-Water Flow Eqn.\n",
      " Solving:  Stress period:     3    Time step:    77    Ground-Water Flow Eqn.\n",
      " Solving:  Stress period:     3    Time step:    78    Ground-Water Flow Eqn.\n",
      " Solving:  Stress period:     3    Time step:    79    Ground-Water Flow Eqn.\n",
      " Solving:  Stress period:     3    Time step:    80    Ground-Water Flow Eqn.\n",
      " Solving:  Stress period:     3    Time step:    81    Ground-Water Flow Eqn.\n",
      " Solving:  Stress period:     3    Time step:    82    Ground-Water Flow Eqn.\n",
      " Solving:  Stress period:     3    Time step:    83    Ground-Water Flow Eqn.\n",
      " Solving:  Stress period:     3    Time step:    84    Ground-Water Flow Eqn.\n",
      " Solving:  Stress period:     3    Time step:    85    Ground-Water Flow Eqn.\n",
      " Solving:  Stress period:     3    Time step:    86    Ground-Water Flow Eqn.\n",
      " Solving:  Stress period:     3    Time step:    87    Ground-Water Flow Eqn.\n",
      " Solving:  Stress period:     3    Time step:    88    Ground-Water Flow Eqn.\n",
      " Solving:  Stress period:     3    Time step:    89    Ground-Water Flow Eqn.\n",
      " Solving:  Stress period:     3    Time step:    90    Ground-Water Flow Eqn.\n",
      " Solving:  Stress period:     3    Time step:    91    Ground-Water Flow Eqn.\n",
      " Solving:  Stress period:     3    Time step:    92    Ground-Water Flow Eqn.\n",
      " Solving:  Stress period:     3    Time step:    93    Ground-Water Flow Eqn.\n",
      " Solving:  Stress period:     3    Time step:    94    Ground-Water Flow Eqn.\n",
      " Solving:  Stress period:     3    Time step:    95    Ground-Water Flow Eqn.\n",
      " Solving:  Stress period:     3    Time step:    96    Ground-Water Flow Eqn.\n",
      " Solving:  Stress period:     3    Time step:    97    Ground-Water Flow Eqn.\n",
      " Solving:  Stress period:     3    Time step:    98    Ground-Water Flow Eqn.\n",
      " Solving:  Stress period:     3    Time step:    99    Ground-Water Flow Eqn.\n",
      " Solving:  Stress period:     3    Time step:   100    Ground-Water Flow Eqn.\n",
      " Run end date and time (yyyy/mm/dd hh:mm:ss): 2017/10/12 17:15:38\n",
      " Elapsed run time:  0.130 Seconds\n",
      "\n",
      "  Normal termination of simulation\n"
     ]
    },
    {
     "data": {
      "text/plain": [
       "(True, [])"
      ]
     },
     "execution_count": 13,
     "metadata": {},
     "output_type": "execute_result"
    }
   ],
   "source": [
    "m.run_model()"
   ]
  },
  {
   "cell_type": "markdown",
   "metadata": {},
   "source": [
    "#### fetching the heads file from the MODFLOW output"
   ]
  },
  {
   "cell_type": "code",
   "execution_count": 14,
   "metadata": {},
   "outputs": [
    {
     "name": "stdout",
     "output_type": "stream",
     "text": [
      "<flopy.utils.binaryfile.HeadFile object at 0x7f3ab9c0af98>\n"
     ]
    }
   ],
   "source": [
    "subfolder = '.'\n",
    "fname = os.path.join(subfolder, 'Prob3b.hds')\n",
    "headobj = flopy.utils.HeadFile(fname)\n",
    "headarray = headobj.get_data()\n",
    "#help(flopy.utils.HeadFile)\n",
    "print(headobj)"
   ]
  },
  {
   "cell_type": "markdown",
   "metadata": {},
   "source": [
    "#### plotting the heads using modelmap "
   ]
  },
  {
   "cell_type": "code",
   "execution_count": 15,
   "metadata": {},
   "outputs": [
    {
     "data": {
      "text/plain": [
       "<matplotlib.colorbar.Colorbar at 0x7f3ab9c82048>"
      ]
     },
     "execution_count": 15,
     "metadata": {},
     "output_type": "execute_result"
    },
    {
     "data": {
      "image/png": "[encoded data removed]",
      "text/plain": [
       "<matplotlib.figure.Figure at 0x7f3ab9c0aba8>"
      ]
     },
     "metadata": {},
     "output_type": "display_data"
    }
   ],
   "source": [
    "mm = flopy.plot.ModelMap(model=m)\n",
    "#mm.plot_ibound()\n",
    "#mm.plot_grid()\n",
    "mm.plot_array(headarray)\n",
    "hplot = mm.plot_array(headarray)\n",
    "plt.colorbar(hplot)\n",
    "#help(mm.plot_array)"
   ]
  },
  {
   "cell_type": "markdown",
   "metadata": {},
   "source": [
    "#### plotting in model grid (ncol, nlay)"
   ]
  },
  {
   "cell_type": "code",
   "execution_count": 16,
   "metadata": {
    "scrolled": true
   },
   "outputs": [
    {
     "data": {
      "text/plain": [
       "<matplotlib.text.Text at 0x7f3ab9bd26d8>"
      ]
     },
     "execution_count": 16,
     "metadata": {},
     "output_type": "execute_result"
    },
    {
     "data": {
      "image/png": "[encoded data removed]",
      "text/plain": [
       "<matplotlib.figure.Figure at 0x7f3ab9c82c50>"
      ]
     },
     "metadata": {},
     "output_type": "display_data"
    }
   ],
   "source": [
    "# Make a simple head plot\n",
    "fig = plt.figure(figsize=(5, 7.5))\n",
    "ax = fig.add_subplot(1, 1, 1)\n",
    "im = ax.imshow(headarray[0,:,:], interpolation='nearest')\n",
    "ax.set_title('Simulated Heads')"
   ]
  },
  {
   "cell_type": "markdown",
   "metadata": {},
   "source": [
    "#### The head levels from which we are creating the above plot"
   ]
  },
  {
   "cell_type": "code",
   "execution_count": 17,
   "metadata": {},
   "outputs": [
    {
     "name": "stdout",
     "output_type": "stream",
     "text": [
      "[[[ 5.          5.          5.          5.          5.          5.          5.\n",
      "    5.          5.          5.          5.          5.          5.        ]\n",
      "  [ 5.          5.          5.10933638  5.12443686  5.          5.          5.\n",
      "    5.          5.          5.          5.          5.          5.        ]\n",
      "  [ 5.          5.          5.19011259  5.26506758  5.21195126  5.          5.\n",
      "    5.          5.          5.          5.          5.          5.        ]\n",
      "  [ 5.          5.          5.26314306  5.41160536  5.45675945  5.42413473\n",
      "    5.41089439  5.38542938  5.33186674  5.22622728  5.          5.          5.        ]\n",
      "  [ 5.          5.          5.32698679  5.54004383  5.65696144  5.70117331\n",
      "    5.70623493  5.67172098  5.58956146  5.44685888  5.23287296  5.          5.        ]\n",
      "  [ 5.          5.          5.37949085  5.64343357  5.80981779  5.89643764\n",
      "    5.91971779  5.88392878  5.78552771  5.61501074  5.35824823  5.          5.        ]\n",
      "  [ 5.          5.          5.4207716   5.72308922  5.92378664  6.03721094\n",
      "    6.07444382  6.04036808  5.93389845  5.74705124  5.45810986  5.          5.        ]\n",
      "  [ 5.          5.          5.45234489  5.78281736  6.0071764   6.13806009\n",
      "    6.18480539  6.15294027  6.04463577  5.85960484  5.59759235  5.27267742\n",
      "    5.        ]\n",
      "  [ 5.          5.          5.47644854  5.82682133  6.06664801  6.2079649\n",
      "    6.25944138  6.22708178  6.11544228  5.92931366  5.6755867   5.36403704\n",
      "    5.        ]\n",
      "  [ 5.          5.          5.49633646  5.85929346  6.10752153  6.2532711\n",
      "    6.30440044  6.26647854  6.14491129  5.94782925  5.68865919  5.38035154\n",
      "    5.        ]\n",
      "  [ 5.          5.          5.51855755  5.88429213  6.13398409  6.27916956\n",
      "    6.32535791  6.27585316  6.13423157  5.90966606  5.62828207  5.34119749\n",
      "    5.        ]\n",
      "  [ 5.          5.17276287  5.56188679  5.90325832  6.14828157  6.29029703\n",
      "    6.32914591  6.26359177  6.09019661  5.80821466  5.44955397  5.22926044\n",
      "    5.        ]\n",
      "  [ 5.          5.          5.52599955  5.89728355  6.14914227  6.29096842\n",
      "    6.32447672  6.24495792  6.03682327  5.65940952  5.          5.          5.        ]\n",
      "  [ 5.          5.          5.51281929  5.88862085  6.14349794  6.28635645\n",
      "    6.31989002  6.24012709  6.03206778  5.65571833  5.          5.          5.        ]\n",
      "  [ 5.          5.          5.50492191  5.87854576  6.13323212  6.27742386\n",
      "    6.31562328  6.24875259  6.07496262  5.79475689  5.44041395  5.2247839\n",
      "    5.        ]\n",
      "  [ 5.          5.          5.49684095  5.86504602  6.11673069  6.26074696\n",
      "    6.30346346  6.24998474  6.1063242   5.88408756  5.61011219  5.33262539\n",
      "    5.        ]\n",
      "  [ 5.          5.          5.48623991  5.84576654  6.09108019  6.23148203\n",
      "    6.27446651  6.2274251   6.09980822  5.90512466  5.65957165  5.36904001\n",
      "    5.        ]\n",
      "  [ 5.          5.          5.47164488  5.81853628  6.0534339   6.18551636\n",
      "    6.22219896  6.17136812  6.0442872   5.85816717  5.63177633  5.35698986\n",
      "    5.        ]\n",
      "  [ 5.          5.          5.4517107   5.78133631  6.00158453  6.12049007\n",
      "    6.14362478  6.07682467  5.93103743  5.73216724  5.53024817  5.30058384\n",
      "    5.        ]\n",
      "  [ 5.          5.          5.42456579  5.7317934   5.93389559  6.03628683\n",
      "    6.04033041  5.94519758  5.75204802  5.48728228  5.33338404  5.18964148\n",
      "    5.        ]\n",
      "  [ 5.          5.          5.38644266  5.66588068  5.84844828  5.93482065\n",
      "    5.92043638  5.79346609  5.52173615  5.          5.          5.          5.        ]\n",
      "  [ 5.          5.          5.32815123  5.57541275  5.74121094  5.81764507\n",
      "    5.79610205  5.66588211  5.40950632  5.          5.          5.          5.        ]\n",
      "  [ 5.          5.          5.22471952  5.44460297  5.60442352  5.68089533\n",
      "    5.66235018  5.54334831  5.32271814  5.          5.          5.          5.        ]\n",
      "  [ 5.          5.          5.          5.25054359  5.43048763  5.52020264\n",
      "    5.50979519  5.40089703  5.21227884  5.          5.          5.          5.        ]\n",
      "  [ 5.          5.          5.          5.          5.22385311  5.33892059\n",
      "    5.33497286  5.21536589  5.          5.          5.          5.          5.        ]\n",
      "  [ 5.          5.          5.          5.          5.          5.15407848\n",
      "    5.15327978  5.          5.          5.          5.          5.          5.        ]\n",
      "  [ 5.          5.          5.          5.          5.          5.          5.\n",
      "    5.          5.          5.          5.          5.          5.        ]]]\n"
     ]
    }
   ],
   "source": [
    "print(headarray)"
   ]
  },
  {
   "cell_type": "code",
   "execution_count": null,
   "metadata": {
    "collapsed": true
   },
   "outputs": [],
   "source": []
  }
 ],
 "metadata": {
  "kernelspec": {
   "display_name": "Python [default]",
   "language": "python",
   "name": "python3"
  },
  "language_info": {
   "codemirror_mode": {
    "name": "ipython",
    "version": 3
   },
   "file_extension": ".py",
   "mimetype": "text/x-python",
   "name": "python",
   "nbconvert_exporter": "python",
   "pygments_lexer": "ipython3",
   "version": "3.6.2"
  }
 },
 "nbformat": 4,
 "nbformat_minor": 2
}
