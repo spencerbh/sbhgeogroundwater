{
 "cells": [
  {
   "cell_type": "markdown",
   "metadata": {},
   "source": [
    "# _Tested Working in Linux, need to test for Windows and Mac_\n",
    "\n",
    "## University of Pennsylvania, Masters in Applied Geosciences\n",
    "\n",
    "### Groundwater Flow and Transport Modeling, Prepared by Carl Mastropaolo\n",
    "\n",
    "### Class Problem 1\n",
    "\n",
    "#### Notebook by Spencer Harris"
   ]
  },
  {
   "cell_type": "code",
   "execution_count": 1,
   "metadata": {
    "scrolled": true
   },
   "outputs": [
    {
     "name": "stdout",
     "output_type": "stream",
     "text": [
      "/home/sbhgeo/Documents/Fogland/conda/bin/python\n"
     ]
    }
   ],
   "source": [
    "import sys\n",
    "print(sys.executable)"
   ]
  },
  {
   "cell_type": "code",
   "execution_count": 2,
   "metadata": {
    "collapsed": true
   },
   "outputs": [],
   "source": [
    "%matplotlib inline \n",
    "# opens matplotlib \"inline\" or in the notebook \n",
    "# %is a notebook specific command, remove if running outside of notebook\n",
    "import os \n",
    "import flopy"
   ]
  },
  {
   "cell_type": "code",
   "execution_count": 3,
   "metadata": {
    "collapsed": true
   },
   "outputs": [],
   "source": [
    "import numpy as np\n",
    "import matplotlib.pyplot as plt"
   ]
  },
  {
   "cell_type": "code",
   "execution_count": 4,
   "metadata": {},
   "outputs": [
    {
     "name": "stdout",
     "output_type": "stream",
     "text": [
      "../../../bin/mf2005.nix\n",
      "/home/sbhgeo/Documents/Fogland/bin/mf2005.nix\n"
     ]
    }
   ],
   "source": [
    "mfexe = os.path.join(\"..\", \"..\", \"..\", \"bin\", \"mf2005.nix\") # adds path to mf2005.nix, which will be our executeable, to mfexe\n",
    "abspath = os.path.abspath(mfexe) # assigns absolute path of mfexe to abspath, double checking\n",
    "print(mfexe) #printing the variables\n",
    "print(abspath)"
   ]
  },
  {
   "cell_type": "code",
   "execution_count": 5,
   "metadata": {},
   "outputs": [
    {
     "data": {
      "text/plain": [
       "True"
      ]
     },
     "execution_count": 5,
     "metadata": {},
     "output_type": "execute_result"
    }
   ],
   "source": [
    "os.path.isfile(mfexe) # returns True if path is an existing regular file checking \"link\""
   ]
  },
  {
   "cell_type": "markdown",
   "metadata": {},
   "source": [
    "### Model starts below:"
   ]
  },
  {
   "cell_type": "code",
   "execution_count": 6,
   "metadata": {
    "collapsed": true
   },
   "outputs": [],
   "source": [
    "# creating an empty modflow container in FloPy, m is being defined as a python object\n",
    "# Modflow model is stored in flopy -> modflow -> \n",
    "# shift + tab here to see how to input necessary files\n",
    "\n",
    "m = flopy.modflow.Modflow(modelname = 'Prob1a', exe_name = mfexe) "
   ]
  },
  {
   "cell_type": "markdown",
   "metadata": {},
   "source": [
    "#### below we add packages to create a minimum viable model:"
   ]
  },
  {
   "cell_type": "code",
   "execution_count": 7,
   "metadata": {
    "collapsed": true
   },
   "outputs": [],
   "source": [
    "nlay = 1\n",
    "nrow = 1\n",
    "ncol = 4\n",
    "dis = flopy.modflow.ModflowDis(m, nlay=nlay, nrow=nrow, ncol=ncol)"
   ]
  },
  {
   "cell_type": "code",
   "execution_count": 8,
   "metadata": {},
   "outputs": [
    {
     "name": "stdout",
     "output_type": "stream",
     "text": [
      "[[[-1  1  1 -1]]]\n",
      "[[[ 50.  50.  50.  47.]]]\n"
     ]
    }
   ],
   "source": [
    "ibound = np.ones((nlay, nrow, ncol), dtype=np.int)\n",
    "ibound[0,0,0] = -1\n",
    "ibound[0,0,-1] = -1 \n",
    "# or could be the following ?:\n",
    "#ibound = [0,0,3] = -1\n",
    "\n",
    "strt = np.ones((nlay, nrow, ncol), dtype=np.float)\n",
    "strt[0,0,0:3] = 50.0 #assigns 50' head to the first 3 cells\n",
    "strt[0,0,3] = 47.0 #assigns 47' head to the fourth cell\n",
    "\n",
    "bas = flopy.modflow.ModflowBas(m, ibound=ibound, strt=strt)\n",
    "bcf = flopy.modflow.ModflowBcf(m, laycon=0, trpy=1.0, hdry=777.7, tran=200.0)\n",
    "sip = flopy.modflow.ModflowSip(m, mxiter=20, nparm=5, accl=1, hclose=1e-06, ipcalc=1, wseed=2e-12, iprsip=1)\n",
    "\n",
    "#below is output control\n",
    "stress_period_data = {(0,0):['save head','save budget']}\n",
    "oc = flopy.modflow.ModflowOc(m, stress_period_data=stress_period_data)\n",
    "\n",
    "print(ibound)\n",
    "print(strt)\n"
   ]
  },
  {
   "cell_type": "markdown",
   "metadata": {},
   "source": [
    "####  writing our MODFLOW-2005 input files!"
   ]
  },
  {
   "cell_type": "code",
   "execution_count": 9,
   "metadata": {},
   "outputs": [
    {
     "name": "stdout",
     "output_type": "stream",
     "text": [
      "warning: assuming SpatialReference units are meters\n"
     ]
    }
   ],
   "source": [
    "m.write_input()"
   ]
  },
  {
   "cell_type": "markdown",
   "metadata": {},
   "source": [
    "#### running the model"
   ]
  },
  {
   "cell_type": "code",
   "execution_count": 10,
   "metadata": {},
   "outputs": [
    {
     "name": "stdout",
     "output_type": "stream",
     "text": [
      "FloPy is using the following executable to run the model: ../../../bin/mf2005.nix\n",
      "\n",
      "                                  MODFLOW-2005     \n",
      "    U.S. GEOLOGICAL SURVEY MODULAR FINITE-DIFFERENCE GROUND-WATER FLOW MODEL\n",
      "                             Version 1.12.00 2/3/2017                        \n",
      "\n",
      " Using NAME file: Prob1a.nam \n",
      " Run start date and time (yyyy/mm/dd hh:mm:ss): 2017/10/04 12:41:34\n",
      "\n",
      " Solving:  Stress period:     1    Time step:     1    Ground-Water Flow Eqn.\n",
      " Run end date and time (yyyy/mm/dd hh:mm:ss): 2017/10/04 12:41:34\n",
      " Elapsed run time:  0.052 Seconds\n",
      "\n",
      "  Normal termination of simulation\n"
     ]
    },
    {
     "data": {
      "text/plain": [
       "(True, [])"
      ]
     },
     "execution_count": 10,
     "metadata": {},
     "output_type": "execute_result"
    }
   ],
   "source": [
    "m.run_model()"
   ]
  },
  {
   "cell_type": "markdown",
   "metadata": {},
   "source": [
    "#### fetching the heads file from the MODFLOW output"
   ]
  },
  {
   "cell_type": "code",
   "execution_count": 11,
   "metadata": {
    "collapsed": true
   },
   "outputs": [],
   "source": [
    "subfolder = '.'\n",
    "fname = os.path.join(subfolder, 'Prob1a.hds')\n",
    "headobj = flopy.utils.HeadFile(fname)\n",
    "headarray = headobj.get_data(totim=1.0)"
   ]
  },
  {
   "cell_type": "markdown",
   "metadata": {},
   "source": [
    "#### plotting the heads! the real glory of FloPy vs .txt files!"
   ]
  },
  {
   "cell_type": "code",
   "execution_count": 12,
   "metadata": {},
   "outputs": [
    {
     "data": {
      "text/plain": [
       "<matplotlib.colorbar.Colorbar at 0x7fb7d86cc978>"
      ]
     },
     "execution_count": 12,
     "metadata": {},
     "output_type": "execute_result"
    },
    {
     "data": {
      "image/png": "[encoded data removed]",
      "text/plain": [
       "<matplotlib.figure.Figure at 0x7fb7db0c4320>"
      ]
     },
     "metadata": {},
     "output_type": "display_data"
    }
   ],
   "source": [
    "mm = flopy.plot.ModelMap(model=m)\n",
    "mm.plot_ibound()\n",
    "mm.plot_grid()\n",
    "mm.plot_array(headarray)\n",
    "hplot = mm.plot_array(headarray)\n",
    "plt.colorbar(hplot)"
   ]
  },
  {
   "cell_type": "markdown",
   "metadata": {},
   "source": [
    "#### The head levels from which we are creating the above plot"
   ]
  },
  {
   "cell_type": "code",
   "execution_count": 13,
   "metadata": {},
   "outputs": [
    {
     "name": "stdout",
     "output_type": "stream",
     "text": [
      "[[[ 50.  49.  48.  47.]]]\n"
     ]
    }
   ],
   "source": [
    "print(headarray)"
   ]
  },
  {
   "cell_type": "code",
   "execution_count": null,
   "metadata": {
    "collapsed": true
   },
   "outputs": [],
   "source": []
  }
 ],
 "metadata": {
  "kernelspec": {
   "display_name": "Python [default]",
   "language": "python",
   "name": "python3"
  },
  "language_info": {
   "codemirror_mode": {
    "name": "ipython",
    "version": 3
   },
   "file_extension": ".py",
   "mimetype": "text/x-python",
   "name": "python",
   "nbconvert_exporter": "python",
   "pygments_lexer": "ipython3",
   "version": "3.6.2"
  }
 },
 "nbformat": 4,
 "nbformat_minor": 2
}
